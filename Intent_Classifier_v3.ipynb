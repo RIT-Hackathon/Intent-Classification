{
 "cells": [
  {
   "cell_type": "code",
   "execution_count": 1,
   "metadata": {
    "ExecuteTime": {
     "end_time": "2025-03-17T06:59:57.112632Z",
     "start_time": "2025-03-17T06:59:46.447210Z"
    }
   },
   "outputs": [],
   "source": [
    "import pandas as pd\n",
    "import torch\n",
    "import spacy\n",
    "import ast\n",
    "from transformers import AutoTokenizer, AutoModelForSequenceClassification\n",
    "from sklearn.preprocessing import LabelEncoder\n",
    "from torch.utils.data import Dataset, DataLoader, random_split"
   ]
  },
  {
   "cell_type": "code",
   "execution_count": 2,
   "metadata": {
    "ExecuteTime": {
     "end_time": "2025-03-17T06:59:57.140350Z",
     "start_time": "2025-03-17T06:59:57.122637Z"
    }
   },
   "outputs": [],
   "source": [
    "df = pd.read_csv(\"healthcare_intent_dataset.csv\")"
   ]
  },
  {
   "cell_type": "code",
   "execution_count": 3,
   "metadata": {
    "ExecuteTime": {
     "end_time": "2025-03-17T06:59:57.349271Z",
     "start_time": "2025-03-17T06:59:57.305389Z"
    }
   },
   "outputs": [
    {
     "data": {
      "text/html": [
       "<div>\n",
       "<style scoped>\n",
       "    .dataframe tbody tr th:only-of-type {\n",
       "        vertical-align: middle;\n",
       "    }\n",
       "\n",
       "    .dataframe tbody tr th {\n",
       "        vertical-align: top;\n",
       "    }\n",
       "\n",
       "    .dataframe thead th {\n",
       "        text-align: right;\n",
       "    }\n",
       "</style>\n",
       "<table border=\"1\" class=\"dataframe\">\n",
       "  <thead>\n",
       "    <tr style=\"text-align: right;\">\n",
       "      <th></th>\n",
       "      <th>query</th>\n",
       "      <th>intent</th>\n",
       "      <th>entities</th>\n",
       "    </tr>\n",
       "  </thead>\n",
       "  <tbody>\n",
       "    <tr>\n",
       "      <th>376</th>\n",
       "      <td>Cancel my  appointment for  August 30th</td>\n",
       "      <td>cancel_test</td>\n",
       "      <td>{'DATE': 'August 30th'}</td>\n",
       "    </tr>\n",
       "  </tbody>\n",
       "</table>\n",
       "</div>"
      ],
      "text/plain": [
       "                                       query       intent  \\\n",
       "376  Cancel my  appointment for  August 30th  cancel_test   \n",
       "\n",
       "                    entities  \n",
       "376  {'DATE': 'August 30th'}  "
      ]
     },
     "execution_count": 3,
     "metadata": {},
     "output_type": "execute_result"
    }
   ],
   "source": [
    "# Ensure all entity values are strings and handle missing values\n",
    "df[\"entities\"] = df[\"entities\"].astype(str)  # Convert to string\n",
    "df[\"entities\"] = df[\"entities\"].apply(lambda x: x if x.strip().startswith(\"{\") else \"{}\")  # Replace invalid values\n",
    "\n",
    "# Convert valid JSON-like strings to dictionaries\n",
    "df[\"entities\"] = df[\"entities\"].apply(lambda x: ast.literal_eval(x) if x.strip() else {})\n",
    "df.sample()"
   ]
  },
  {
   "cell_type": "code",
   "execution_count": 4,
   "metadata": {
    "ExecuteTime": {
     "end_time": "2025-03-17T06:59:57.404538Z",
     "start_time": "2025-03-17T06:59:57.398656Z"
    }
   },
   "outputs": [],
   "source": [
    "# Encode intent labels\n",
    "label_encoder = LabelEncoder()\n",
    "df[\"intent_label\"] = label_encoder.fit_transform(df[\"intent\"])"
   ]
  },
  {
   "cell_type": "code",
   "execution_count": 5,
   "metadata": {
    "ExecuteTime": {
     "end_time": "2025-03-17T06:59:57.421041Z",
     "start_time": "2025-03-17T06:59:57.414549Z"
    }
   },
   "outputs": [
    {
     "name": "stdout",
     "output_type": "stream",
     "text": [
      "Intent Mapping: {'book_test': 0, 'cancel_test': 1, 'medical_query': 2, 'retrieve_document': 3, 'upload_document': 4}\n"
     ]
    }
   ],
   "source": [
    "# Display intent mappings\n",
    "intent_mapping = dict(zip(label_encoder.classes_, range(len(label_encoder.classes_))))\n",
    "print(\"Intent Mapping:\", intent_mapping)"
   ]
  },
  {
   "cell_type": "code",
   "execution_count": 6,
   "metadata": {
    "ExecuteTime": {
     "end_time": "2025-03-17T06:59:58.466002Z",
     "start_time": "2025-03-17T06:59:57.454786Z"
    }
   },
   "outputs": [],
   "source": [
    "# Load tokenizer (RoBERTa for better NLP handling)\n",
    "MODEL_NAME = \"roberta-base\"\n",
    "tokenizer = AutoTokenizer.from_pretrained(MODEL_NAME)"
   ]
  },
  {
   "cell_type": "code",
   "execution_count": 7,
   "metadata": {
    "ExecuteTime": {
     "end_time": "2025-03-17T06:59:58.737261Z",
     "start_time": "2025-03-17T06:59:58.500083Z"
    }
   },
   "outputs": [],
   "source": [
    "# Tokenize queries\n",
    "tokens = tokenizer(list(df[\"query\"]), padding=True, truncation=True, return_tensors=\"pt\")\n",
    "labels = torch.tensor(df[\"intent_label\"].values)"
   ]
  },
  {
   "cell_type": "code",
   "execution_count": 8,
   "metadata": {
    "ExecuteTime": {
     "end_time": "2025-03-17T06:59:58.809763Z",
     "start_time": "2025-03-17T06:59:58.804651Z"
    }
   },
   "outputs": [],
   "source": [
    "# Convert entities to tensor-friendly format\n",
    "entity_labels = [str(e) for e in df[\"entities\"]]"
   ]
  },
  {
   "cell_type": "code",
   "execution_count": 9,
   "metadata": {
    "ExecuteTime": {
     "end_time": "2025-03-17T06:59:58.881803Z",
     "start_time": "2025-03-17T06:59:58.876930Z"
    }
   },
   "outputs": [],
   "source": [
    "# Create Dataset class\n",
    "class IntentDataset(Dataset):\n",
    "    def __init__(self, encodings, labels):\n",
    "        self.encodings = encodings\n",
    "        self.labels = labels\n",
    "\n",
    "    def __len__(self):\n",
    "        return len(self.labels)\n",
    "\n",
    "    def __getitem__(self, idx):\n",
    "        item = {key: torch.tensor(val[idx]) for key, val in self.encodings.items()}\n",
    "        item[\"labels\"] = torch.tensor(self.labels[idx])\n",
    "        return item\n",
    "\n",
    "dataset = IntentDataset(tokens, labels)"
   ]
  },
  {
   "cell_type": "code",
   "execution_count": 10,
   "metadata": {
    "ExecuteTime": {
     "end_time": "2025-03-17T06:59:58.951021Z",
     "start_time": "2025-03-17T06:59:58.942064Z"
    }
   },
   "outputs": [],
   "source": [
    "# Split dataset (80% train, 20% validation)\n",
    "train_size = int(0.8 * len(dataset))\n",
    "train_dataset, val_dataset = random_split(dataset, [train_size, len(dataset) - train_size])"
   ]
  },
  {
   "cell_type": "code",
   "execution_count": 11,
   "metadata": {
    "ExecuteTime": {
     "end_time": "2025-03-17T06:59:59.005458Z",
     "start_time": "2025-03-17T06:59:58.999851Z"
    }
   },
   "outputs": [],
   "source": [
    "# DataLoader\n",
    "train_loader = DataLoader(train_dataset, batch_size=16, shuffle=True)\n",
    "val_loader = DataLoader(val_dataset, batch_size=16)"
   ]
  },
  {
   "cell_type": "code",
   "execution_count": 12,
   "metadata": {
    "ExecuteTime": {
     "end_time": "2025-03-17T06:59:59.919526Z",
     "start_time": "2025-03-17T06:59:59.014584Z"
    }
   },
   "outputs": [
    {
     "name": "stderr",
     "output_type": "stream",
     "text": [
      "Some weights of RobertaForSequenceClassification were not initialized from the model checkpoint at roberta-base and are newly initialized: ['classifier.dense.bias', 'classifier.dense.weight', 'classifier.out_proj.bias', 'classifier.out_proj.weight']\n",
      "You should probably TRAIN this model on a down-stream task to be able to use it for predictions and inference.\n"
     ]
    }
   ],
   "source": [
    "from transformers import AdamW\n",
    "\n",
    "# Load model\n",
    "model = AutoModelForSequenceClassification.from_pretrained(MODEL_NAME, num_labels=len(intent_mapping))\n",
    "\n",
    "# Move model to GPU if available\n",
    "device = torch.device(\"cuda\" if torch.cuda.is_available() else \"cpu\")\n",
    "model.to(device)\n",
    "\n",
    "# Define optimizer\n",
    "optimizer = torch.optim.AdamW(model.parameters(), lr=5e-5)"
   ]
  },
  {
   "cell_type": "code",
   "execution_count": null,
   "metadata": {
    "ExecuteTime": {
     "end_time": "2025-03-17T07:14:48.428043Z",
     "start_time": "2025-03-17T06:59:59.952477Z"
    }
   },
   "outputs": [
    {
     "name": "stderr",
     "output_type": "stream",
     "text": [
      "C:\\Users\\shriy\\AppData\\Local\\Temp\\ipykernel_28236\\718408910.py:11: UserWarning: To copy construct from a tensor, it is recommended to use sourceTensor.clone().detach() or sourceTensor.clone().detach().requires_grad_(True), rather than torch.tensor(sourceTensor).\n",
      "  item = {key: torch.tensor(val[idx]) for key, val in self.encodings.items()}\n",
      "C:\\Users\\shriy\\AppData\\Local\\Temp\\ipykernel_28236\\718408910.py:12: UserWarning: To copy construct from a tensor, it is recommended to use sourceTensor.clone().detach() or sourceTensor.clone().detach().requires_grad_(True), rather than torch.tensor(sourceTensor).\n",
      "  item[\"labels\"] = torch.tensor(self.labels[idx])\n"
     ]
    }
   ],
   "source": [
    "# Training loop\n",
    "EPOCHS = 3\n",
    "for epoch in range(EPOCHS):\n",
    "    model.train()\n",
    "    total_loss = 0\n",
    "\n",
    "    for batch in train_loader:\n",
    "        input_ids, attention_mask, labels = [x.to(device) for x in batch.values()]\n",
    "\n",
    "        optimizer.zero_grad()\n",
    "        outputs = model(input_ids, attention_mask=attention_mask, labels=labels)\n",
    "        loss = outputs.loss\n",
    "        loss.backward()\n",
    "        optimizer.step()\n",
    "\n",
    "        total_loss += loss.item()\n",
    "\n",
    "    print(f\"Epoch {epoch+1}, Loss: {total_loss / len(train_loader)}\")\n",
    "\n",
    "print(\"Training complete!\")"
   ]
  },
  {
   "cell_type": "code",
   "execution_count": 14,
   "metadata": {
    "ExecuteTime": {
     "end_time": "2025-03-17T07:14:56.292154Z",
     "start_time": "2025-03-17T07:14:49.545965Z"
    }
   },
   "outputs": [
    {
     "name": "stderr",
     "output_type": "stream",
     "text": [
      "C:\\Users\\shriy\\AppData\\Local\\Temp\\ipykernel_22532\\477449498.py:11: UserWarning: To copy construct from a tensor, it is recommended to use sourceTensor.clone().detach() or sourceTensor.clone().detach().requires_grad_(True), rather than torch.tensor(sourceTensor).\n",
      "  item = {key: torch.tensor(val[idx]) for key, val in self.encodings.items()}\n",
      "C:\\Users\\shriy\\AppData\\Local\\Temp\\ipykernel_22532\\477449498.py:12: UserWarning: To copy construct from a tensor, it is recommended to use sourceTensor.clone().detach() or sourceTensor.clone().detach().requires_grad_(True), rather than torch.tensor(sourceTensor).\n",
      "  item[\"labels\"] = torch.tensor(self.labels[idx])\n"
     ]
    },
    {
     "name": "stdout",
     "output_type": "stream",
     "text": [
      "Validation Accuracy: 100.00%\n"
     ]
    }
   ],
   "source": [
    "# Validation\n",
    "from sklearn.metrics import accuracy_score\n",
    "\n",
    "model.eval()\n",
    "preds, true_labels = [], []\n",
    "\n",
    "with torch.no_grad():\n",
    "    for batch in val_loader:\n",
    "        input_ids, attention_mask, labels = [x.to(device) for x in batch.values()]\n",
    "\n",
    "        outputs = model(input_ids, attention_mask=attention_mask)\n",
    "        predictions = torch.argmax(outputs.logits, dim=1)\n",
    "\n",
    "        preds.extend(predictions.cpu().numpy())\n",
    "        true_labels.extend(labels.cpu().numpy())\n",
    "\n",
    "accuracy = accuracy_score(true_labels, preds)\n",
    "print(f\"Validation Accuracy: {accuracy * 100:.2f}%\")"
   ]
  },
  {
   "cell_type": "code",
   "execution_count": 15,
   "metadata": {
    "ExecuteTime": {
     "end_time": "2025-03-17T07:14:57.459814Z",
     "start_time": "2025-03-17T07:14:56.305691Z"
    }
   },
   "outputs": [],
   "source": [
    "# Load spaCy model for entity extraction\n",
    "nlp = spacy.load(\"en_core_web_sm\")"
   ]
  },
  {
   "cell_type": "code",
   "execution_count": 16,
   "metadata": {
    "ExecuteTime": {
     "end_time": "2025-03-17T07:14:57.503799Z",
     "start_time": "2025-03-17T07:14:57.495391Z"
    }
   },
   "outputs": [],
   "source": [
    "# Function for extracting entities\n",
    "def extract_entities(query, intent):\n",
    "    entities = {}\n",
    "    doc = nlp(query)\n",
    "\n",
    "    if intent in [\"book_test\", \"cancel_test\"]:\n",
    "        for ent in doc.ents:\n",
    "            if ent.label_ in [\"DATE\", \"TIME\"]:\n",
    "                entities[\"TIME\"] = ent.text\n",
    "            elif ent.label_ in [\"EVENT\", \"ORG\", \"PRODUCT\"]:\n",
    "                entities[\"TEST_TYPE\"] = ent.text\n",
    "\n",
    "    elif intent in [\"upload_record\", \"retrieve_record\"]:\n",
    "        for ent in doc.ents:\n",
    "            if ent.label_ in [\"PRODUCT\", \"WORK_OF_ART\"]:\n",
    "                entities[\"REPORT_TYPE\"] = ent.text\n",
    "\n",
    "    return entities"
   ]
  },
  {
   "cell_type": "code",
   "execution_count": 17,
   "metadata": {
    "ExecuteTime": {
     "end_time": "2025-03-17T07:14:57.582090Z",
     "start_time": "2025-03-17T07:14:57.574131Z"
    }
   },
   "outputs": [],
   "source": [
    "# Intent classification and entity extraction\n",
    "def predict_intent_entities(query):\n",
    "    model.eval()\n",
    "    tokens = tokenizer(query, return_tensors=\"pt\", padding=True, truncation=True).to(device)\n",
    "\n",
    "    with torch.no_grad():\n",
    "        output = model(tokens[\"input_ids\"], attention_mask=tokens[\"attention_mask\"])\n",
    "        pred_label = torch.argmax(output.logits, dim=1).cpu().item()\n",
    "\n",
    "    intent = label_encoder.inverse_transform([pred_label])[0]\n",
    "    entities = extract_entities(query, intent)\n",
    "\n",
    "    return {\"intent\": intent, \"entities\": entities}"
   ]
  },
  {
   "cell_type": "code",
   "execution_count": 23,
   "metadata": {
    "ExecuteTime": {
     "end_time": "2025-03-17T07:23:19.107719Z",
     "start_time": "2025-03-17T07:23:18.475456Z"
    }
   },
   "outputs": [
    {
     "name": "stdout",
     "output_type": "stream",
     "text": [
      "Query: Schedule a blood test for next week.\n",
      "Prediction: {'intent': 'book_test', 'entities': {'TIME': 'next week'}}\n",
      "\n",
      "Query: Cancel my MRI appointment for tomorrow.\n",
      "Prediction: {'intent': 'cancel_test', 'entities': {'TEST_TYPE': 'Cancel', 'TIME': 'tomorrow'}}\n",
      "\n",
      "Query: I need to upload my X-ray report.\n",
      "Prediction: {'intent': 'upload_record', 'entities': {}}\n",
      "\n",
      "Query: Fetch my ultrasound records from last month.\n",
      "Prediction: {'intent': 'retrieve_record', 'entities': {}}\n",
      "\n",
      "Query: I want to book an ECG appointment for next Friday.\n",
      "Prediction: {'intent': 'book_test', 'entities': {'TEST_TYPE': 'ECG', 'TIME': 'next Friday'}}\n",
      "\n",
      "Query: I'm confused about my availability for my blood test scheduled in tomorrow.\n",
      "Prediction: {'intent': 'cancel_test', 'entities': {'TIME': 'tomorrow'}}\n",
      "\n",
      "Query: Can i get my X-ray report from last week?\n",
      "Prediction: {'intent': 'retrieve_record', 'entities': {}}\n",
      "\n",
      "Query: Can i get my X-ray done in next week?\n",
      "Prediction: {'intent': 'book_test', 'entities': {'TIME': 'next week'}}\n",
      "\n",
      "Query: Fetch my ultrasound report from last week.\n",
      "Prediction: {'intent': 'retrieve_record', 'entities': {}}\n",
      "\n"
     ]
    }
   ],
   "source": [
    "# Test Cases\n",
    "queries = [\n",
    "    \"Schedule a blood test for next week.\",\n",
    "    \"Cancel my MRI appointment for tomorrow.\",\n",
    "    \"I need to upload my X-ray report.\",\n",
    "    \"Fetch my ultrasound records from last month.\",\n",
    "    \"I want to book an ECG appointment for next Friday.\",\n",
    "    \"I'm confused about my availability for my blood test scheduled in tomorrow.\",\n",
    "    \"Can i get my X-ray report from last week?\",\n",
    "    \"Can i get my X-ray done in next week?\",\n",
    "    \"Fetch my ultrasound report from last week.\",\n",
    "]\n",
    "\n",
    "for query in queries:\n",
    "    result = predict_intent_entities(query)\n",
    "    print(f\"Query: {query}\\nPrediction: {result}\\n\")"
   ]
  }
 ],
 "metadata": {
  "kernelspec": {
   "display_name": "intent_env",
   "language": "python",
   "name": "python3"
  },
  "language_info": {
   "codemirror_mode": {
    "name": "ipython",
    "version": 3
   },
   "file_extension": ".py",
   "mimetype": "text/x-python",
   "name": "python",
   "nbconvert_exporter": "python",
   "pygments_lexer": "ipython3",
   "version": "3.12.6"
  }
 },
 "nbformat": 4,
 "nbformat_minor": 2
}
